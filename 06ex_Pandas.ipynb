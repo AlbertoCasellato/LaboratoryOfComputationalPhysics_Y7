{
 "cells": [
  {
   "cell_type": "markdown",
   "metadata": {},
   "source": [
    "## Pandas analysis\n",
    "\n",
    "This exercise consists in analyzing a dataset containg timing information from a series of Time-to-Digital-Converters (TDC) implemented in a couple of FPGAs. Each measurement (i.e. each row of the input file) consists of a flag that specifies the type of message ('HEAD', which in this case is always 1), two addresses of the TDC providing the signal ('FPGA' and 'TDC_CHANNEL'), and the timing information ('ORBIT_CNT', 'BX_COUNTER', and 'TDC_MEAS'). Each TDC count corresponds to 25/30 ns, whereas a unit of BX_COUNTER corresponds to 25 ns, and the ORBIT_CNT is increased every 'x' BX_COUNTER. This allows to store the time in a similar way to hours, minutes and seconds."
   ]
  },
  {
   "cell_type": "code",
   "execution_count": 1,
   "metadata": {},
   "outputs": [
    {
     "name": "stdout",
     "output_type": "stream",
     "text": [
      "--2024-11-28 08:49:01--  https://www.dropbox.com/s/xvjzaxzz3ysphme/data_000637.txt\n",
      "Resolving www.dropbox.com (www.dropbox.com)... 162.125.69.18, 2620:100:6025:18::a27d:4512\n",
      "Connecting to www.dropbox.com (www.dropbox.com)|162.125.69.18|:443... connected.\n",
      "HTTP request sent, awaiting response... 302 Found\n",
      "Location: https://www.dropbox.com/scl/fi/pkkpoxlm7beasryexpdf8/data_000637.txt?rlkey=rkm2em1v57hewglzelmin21c9 [following]\n",
      "--2024-11-28 08:49:02--  https://www.dropbox.com/scl/fi/pkkpoxlm7beasryexpdf8/data_000637.txt?rlkey=rkm2em1v57hewglzelmin21c9\n",
      "Reusing existing connection to www.dropbox.com:443.\n",
      "HTTP request sent, awaiting response... 302 Found\n",
      "Location: https://ucb278b924a21febd37cff1e8135.dl.dropboxusercontent.com/cd/0/inline/CfNW_PrG0P_ZjpDAzLU-5Phrp3D8LFyd3a2rvWhlqjFDvtZ3SV7psfyMc_yFeAOTuX0ixhCa_1q-z-BNEZm6k4IPf2CMf32nAo-iyhNbdUBYqq8ZRQGmW5hLa_0fr19CpXw/file# [following]\n",
      "--2024-11-28 08:49:03--  https://ucb278b924a21febd37cff1e8135.dl.dropboxusercontent.com/cd/0/inline/CfNW_PrG0P_ZjpDAzLU-5Phrp3D8LFyd3a2rvWhlqjFDvtZ3SV7psfyMc_yFeAOTuX0ixhCa_1q-z-BNEZm6k4IPf2CMf32nAo-iyhNbdUBYqq8ZRQGmW5hLa_0fr19CpXw/file\n",
      "Resolving ucb278b924a21febd37cff1e8135.dl.dropboxusercontent.com (ucb278b924a21febd37cff1e8135.dl.dropboxusercontent.com)... 162.125.69.15, 2620:100:6025:15::a27d:450f\n",
      "Connecting to ucb278b924a21febd37cff1e8135.dl.dropboxusercontent.com (ucb278b924a21febd37cff1e8135.dl.dropboxusercontent.com)|162.125.69.15|:443... connected.\n",
      "HTTP request sent, awaiting response... 200 OK\n",
      "Length: 33179236 (32M) [text/plain]\n",
      "Saving to: ‘/home/alberto/data/data_000637.txt’\n",
      "\n",
      "data_000637.txt     100%[===================>]  31,64M  19,6MB/s    in 1,6s    \n",
      "\n",
      "2024-11-28 08:49:05 (19,6 MB/s) - ‘/home/alberto/data/data_000637.txt’ saved [33179236/33179236]\n",
      "\n"
     ]
    }
   ],
   "source": [
    "# If you didn't download it yet, please get the relevant file now!\n",
    "!wget https://www.dropbox.com/s/xvjzaxzz3ysphme/data_000637.txt -P ~/data/"
   ]
  },
  {
   "cell_type": "markdown",
   "metadata": {},
   "source": [
    "1\\. Create a Pandas DataFrame reading N rows of the 'data_000637.txt' dataset. Choose N to be smaller than or equal to the maximum number of rows and larger that 10k.\n",
    "\n",
    "2\\. Find out the number of BX in a ORBIT (the value 'x').\n",
    "\n",
    "3\\. Find out how much the data taking lasted. You can either make an estimate based on the fraction of the measurements (rows) you read, or perform this check precisely by reading out the whole dataset.\n",
    "\n",
    "4\\. Create a new column with the absolute time in ns (as a combination of the other three columns with timing information).\n",
    "\n",
    "5\\. Replace the values (all 1) of the HEAD column randomly with 0 or 1.\n",
    "\n",
    "6\\. Create a new DataFrame that contains only the rows with HEAD=1.\n",
    "\n",
    "7\\. Make two occupancy plots (one for each FPGA), i.e. plot the number of counts per TDC channel\n",
    "\n",
    "8\\. Use the groupby method to find out the noisy channels, i.e. the TDC channels with most counts (say the top 3)\n",
    "\n",
    "9\\. Count the number of unique orbits. Count the number of unique orbits with at least one measurement from TDC_CHANNEL=139"
   ]
  },
  {
   "cell_type": "code",
   "execution_count": 7,
   "metadata": {},
   "outputs": [
    {
     "data": {
      "image/png": "[encoded data removed]",
      "text/plain": [
       "<Figure size 640x480 with 1 Axes>"
      ]
     },
     "metadata": {},
     "output_type": "display_data"
    }
   ],
   "source": [
    "import pandas as pd\n",
    "import numpy as np\n",
    "import matplotlib.pyplot as plt\n",
    "\n",
    "df = pd.read_csv(\"data/data_000637.txt\")\n",
    "\n",
    "# 1\n",
    "N = df.shape[0]\n",
    "max_i = np.random.randint(10000, N)\n",
    "df = df[:max_i]\n",
    "\n",
    "# 2\n",
    "max_bx_count = df[\"BX_COUNTER\"].max()\n",
    "\n",
    "# 3-4\n",
    "df[\"ABS_TIME\"] = 25/30*df[\"TDC_MEAS\"] + 25*df[\"BX_COUNTER\"] + 25*max_bx_count*df[\"ORBIT_CNT\"]\n",
    "elapsed_time = 1e-9 * (df[\"ABS_TIME\"].max()-df[\"ABS_TIME\"].min())\n",
    "\n",
    "# 5\n",
    "df[\"HEAD\"] = np.random.choice([0,1], size=df.shape[0])\n",
    "\n",
    "# 6\n",
    "new_df = df[df[\"HEAD\"]==1]\n",
    "\n",
    "# 7\n",
    "bins = max(df[\"TDC_CHANNEL\"])\n",
    "plt.hist(df[df[\"FPGA\"]==0][\"TDC_CHANNEL\"], bins=bins, alpha=.8)\n",
    "plt.hist(df[df[\"FPGA\"]==1][\"TDC_CHANNEL\"], bins=bins, alpha=.5)\n",
    "plt.show()\n",
    "\n",
    "# 8\n",
    "noise_0 = df[df[\"FPGA\"]==0].groupby([\"TDC_CHANNEL\"]).size().sort_values(ascending=False).iloc[:3]\n",
    "noise_1 = df[df[\"FPGA\"]==1].groupby([\"TDC_CHANNEL\"]).size().sort_values(ascending=False).iloc[:3]\n",
    "\n",
    "# 9\n"
   ]
  }
 ],
 "metadata": {
  "kernelspec": {
   "display_name": "Python 3",
   "language": "python",
   "name": "python3"
  },
  "language_info": {
   "codemirror_mode": {
    "name": "ipython",
    "version": 3
   },
   "file_extension": ".py",
   "mimetype": "text/x-python",
   "name": "python",
   "nbconvert_exporter": "python",
   "pygments_lexer": "ipython3",
   "version": "3.10.12"
  }
 },
 "nbformat": 4,
 "nbformat_minor": 2
}

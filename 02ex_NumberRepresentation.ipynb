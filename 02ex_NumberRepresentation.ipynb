{
 "cells": [
  {
   "cell_type": "markdown",
   "metadata": {},
   "source": [
    "1\\. Write a function that converts number representation, bin<->dec<->hex. (Clearly using the corresponding python built-in functions is not fair..)"
   ]
  },
  {
   "cell_type": "code",
   "execution_count": 2,
   "metadata": {},
   "outputs": [
    {
     "data": {
      "text/plain": [
       "'0b0000000000010000'"
      ]
     },
     "execution_count": 2,
     "metadata": {},
     "output_type": "execute_result"
    }
   ],
   "source": [
    "def decimal_to(new_base, number, bits=8):\n",
    "    conversion = \"\"\n",
    "    new_number = number\n",
    "    while new_number != 0:\n",
    "        remainder = new_number % new_base\n",
    "        \n",
    "        characters = \"0123456789ABCDEFGHIJKLMNOPQRSTUVWXYZ\"\n",
    "        conversion += characters[remainder]\n",
    "    \n",
    "        new_number //= new_base\n",
    "    \n",
    "    prefix1 = \"\"\n",
    "    match new_base:\n",
    "        case 2:\n",
    "            prefix1 = \"0b\"\n",
    "        case 16:\n",
    "            prefix1 = \"0x\"\n",
    "\n",
    "    prefix2 = \"0\" * (bits - len(conversion))\n",
    "\n",
    "    return  prefix1 + prefix2 + conversion[::-1]\n",
    "\n",
    "decimal_to(2, 16, bits=16)"
   ]
  },
  {
   "cell_type": "code",
   "execution_count": 3,
   "metadata": {},
   "outputs": [
    {
     "data": {
      "text/plain": [
       "42"
      ]
     },
     "execution_count": 3,
     "metadata": {},
     "output_type": "execute_result"
    }
   ],
   "source": [
    "def bin_to_dec(number, ntype=\"int\"):\n",
    "    \"\"\" ntype: 'int' or 'frac' \"\"\"\n",
    "    if number[0:2] == \"0b\":\n",
    "        number = number[2:]\n",
    "    \n",
    "    if ntype == \"int\":\n",
    "        number = number[::-1]\n",
    "    converted_number = 0\n",
    "    for i, c in enumerate(number):\n",
    "        converted_number += int(c) * 2**i if ntype==\"int\" else int(c) * 2**(-i-1)\n",
    "        \n",
    "    return converted_number\n",
    "    \n",
    "\n",
    "n = bin(42)\n",
    "bin_to_dec(n)"
   ]
  },
  {
   "cell_type": "code",
   "execution_count": 35,
   "metadata": {},
   "outputs": [
    {
     "name": "stdout",
     "output_type": "stream",
     "text": [
      "1.7976931348623157e+308\n",
      "2.2250738585072014e-308 5e-324\n"
     ]
    }
   ],
   "source": [
    "# 0 11111111110 1111111111111111111111111111111111111111111111111111\n",
    "biggest = (1 + bin_to_dec(\"1\"*52, ntype=\"frac\")) * 2 ** (2046 - 1023)\n",
    "\n",
    "# when the exponent is just zeros, the numbers used are the denormalized numbers, and the bias is fixed at -1022 instead of (e - 1023).\n",
    "# 0 0000000001 0000000000000000000000000000000000000000000000000000\n",
    "smallest_normalized = (1 + bin_to_dec(\"0\"*52, ntype=\"frac\")) * 2 ** -1022\n",
    "# 0 0000000000 0000000000000000000000000000000000000000000000000001\n",
    "smallest_denormalized = bin_to_dec(\"0\"*51+\"1\", ntype=\"frac\") * 2 ** -1022\n",
    "\n",
    "print(biggest)\n",
    "print(smallest_normalized, smallest_denormalized)"
   ]
  },
  {
   "cell_type": "code",
   "execution_count": 18,
   "metadata": {},
   "outputs": [],
   "source": [
    "def converter(number, new_base):\n",
    "    if isinstance(number, str):\n",
    "        base = number[1]\n",
    "        number = number[2:]\n",
    "        if base == \"b\":\n",
    "            # binary number\n",
    "            pass\n",
    "        elif base == \"x\":\n",
    "            # hexadecimal number\n",
    "            pass\n",
    "        else:\n",
    "            print(\"Don't know.\")\n",
    "    else:\n",
    "        # decimal number\n",
    "        pass\n",
    "\n",
    "converter(10, \"bin\")"
   ]
  },
  {
   "cell_type": "markdown",
   "metadata": {},
   "source": [
    "2\\. Write a function that converts a 32 bit word into a single precision floating point (i.e. interprets the various bits as sign, mantissa and exponent)"
   ]
  },
  {
   "cell_type": "code",
   "execution_count": 19,
   "metadata": {},
   "outputs": [
    {
     "name": "stdout",
     "output_type": "stream",
     "text": [
      "1.316553672920962e-36\n",
      "-5.5\n"
     ]
    }
   ],
   "source": [
    "def bin_to_float(number):\n",
    "    sign, exponent, mantissa = int(number[0]), bin_to_dec(number [1:9]), bin_to_dec(number[9:], ntype=\"frac\")\n",
    "    return (-1)**sign * (1 + mantissa) * 2 ** (exponent - 127)\n",
    "    \n",
    "\n",
    "print(bin_to_float(\"00000011111000000000000000000000\"))\n",
    "print(bin_to_float(\"11000000101100000000000000000000\"))"
   ]
  },
  {
   "cell_type": "markdown",
   "metadata": {},
   "source": [
    "3\\. Write a program to determine the underflow and overflow limits (within a factor of 2) for python on your computer. \n",
    "\n",
    "**Tips**: define two variables inizialized to 1 and halve/double them enough time to exceed the under/over-flow limits  "
   ]
  },
  {
   "cell_type": "code",
   "execution_count": null,
   "metadata": {},
   "outputs": [
    {
     "data": {
      "text/plain": [
       "(1024, None)"
      ]
     },
     "execution_count": 37,
     "metadata": {},
     "output_type": "execute_result"
    }
   ],
   "source": [
    "# TODO: da fare\n",
    "def find_limits():\n",
    "    a, b = 1., 1.\n",
    "    ia, ib = None, None\n",
    "    i = 0\n",
    "    while True:        \n",
    "        if a == float(\"inf\") and b == 0:\n",
    "            return ia, ib\n",
    "        \n",
    "        if a != float(\"inf\"):\n",
    "            a *= 2\n",
    "        else:\n",
    "            if ia is None:\n",
    "                ia = i\n",
    "        \n",
    "        if b != 0:\n",
    "            b /= 2\n",
    "        else:\n",
    "            if ib is None:\n",
    "                ib = i\n",
    "        \n",
    "        \n",
    "        i += 1\n",
    "\n",
    "\n",
    "find_limits()"
   ]
  },
  {
   "cell_type": "markdown",
   "metadata": {},
   "source": [
    "4\\. Write a program to determine the machine precision\n",
    "\n",
    "**Tips**: define a new variable by adding a smaller and smaller value (proceeding similarly to prob. 2) to an original variable and check the point where the two are the same "
   ]
  },
  {
   "cell_type": "code",
   "execution_count": 38,
   "metadata": {},
   "outputs": [],
   "source": [
    "# TODO: da fare"
   ]
  },
  {
   "cell_type": "markdown",
   "metadata": {},
   "source": [
    "5\\. Write a function that takes in input three parameters $a$, $b$ and $c$ and prints out the two solutions to the quadratic equation $ax^2+bx+c=0$ using the standard formula:\n",
    "$$\n",
    "x=\\frac{-b\\pm\\sqrt{b^2-4ac}}{2a}\n",
    "$$\n",
    "\n",
    "(a) use the program to compute the solution for $a=0.001$, $b=1000$ and $c=0.001$\n",
    "\n",
    "(b) re-express the standard solution formula by multiplying top and bottom by $-b\\mp\\sqrt{b^2-4ac}$ and again find the solution for $a=0.001$, $b=1000$ and $c=0.001$. How does it compare with what previously obtained? Why?\n",
    "\n",
    "(c) write a function that compute the roots of a quadratic equation accurately in all cases"
   ]
  },
  {
   "cell_type": "code",
   "execution_count": 44,
   "metadata": {},
   "outputs": [
    {
     "name": "stdout",
     "output_type": "stream",
     "text": [
      "(-9.999894245993346e-07, -999999.999999)\n",
      "(-1.000000000001e-06, -1000010.5755125057)\n"
     ]
    }
   ],
   "source": [
    "def solve_quad_eq(a,b,c):\n",
    "    sqrt_term = (b**2-4*a*c)**.5\n",
    "    return (-b+sqrt_term)/(2*a), (-b-sqrt_term)/(2*a)\n",
    "\n",
    "def solve_quad_eq2(a,b,c):\n",
    "    sqrt_term = (b**2-4*a*c)**.5\n",
    "    return (2*c)/(-b-sqrt_term), (2*c)/(-b+sqrt_term)\n",
    "\n",
    "a = solve_quad_eq(0.001, 1000, 0.001)\n",
    "b = solve_quad_eq2(0.001, 1000, 0.001)\n",
    "print(a)\n",
    "print(b)"
   ]
  },
  {
   "cell_type": "markdown",
   "metadata": {},
   "source": [
    "6\\. Write a program that implements the function $f(x)=x(x−1)$\n",
    "\n",
    "(a) Calculate the derivative of the function at the point $x = 1$ using the derivative definition:\n",
    "\n",
    "$$\n",
    "\\frac{{\\rm d}f}{{\\rm d}x} = \\lim_{\\delta\\to0} \\frac{f(x+\\delta)-f(x)}{\\delta}\n",
    "$$\n",
    "\n",
    "with $\\delta = 10^{−2}$. Calculate the true value of the same derivative analytically and compare with the answer your program gives. The two will not agree perfectly. Why not?\n",
    "\n",
    "(b) Repeat the calculation for $\\delta = 10^{−4}, 10^{−6}, 10^{−8}, 10^{−10}, 10^{−12}$ and $10^{−14}$. How does the accuracy scales with $\\delta$?"
   ]
  },
  {
   "cell_type": "markdown",
   "metadata": {},
   "source": [
    "7\\. Consider the integral of the semicircle of radius 1:\n",
    "$$\n",
    "I=\\int_{-1}^{1} \\sqrt(1-x^2) {\\rm d}x\n",
    "$$\n",
    "which it's known to be $I=\\frac{\\pi}{2}=1.57079632679...$.\n",
    "Alternatively we can use the Riemann definition of the integral:\n",
    "$$\n",
    "I=\\lim_{N\\to\\infty} \\sum_{k=1}^{N} h y_k \n",
    "$$\n",
    "\n",
    "with $h=2/N$ the width of each of the $N$ slices the domain is divided into and where\n",
    "$y_k$ is the value of the function at the $k-$th slice.\n",
    "\n",
    "(a) Write a programe to compute the integral with $N=100$. How does the result compares to the true value?\n",
    "\n",
    "(b) How much can $N$ be increased if the computation needs to be run in less than a second? What is the gain in running it for 1 minute? \n"
   ]
  },
  {
   "cell_type": "code",
   "execution_count": null,
   "metadata": {},
   "outputs": [],
   "source": []
  }
 ],
 "metadata": {
  "kernelspec": {
   "display_name": "Python 3",
   "language": "python",
   "name": "python3"
  },
  "language_info": {
   "codemirror_mode": {
    "name": "ipython",
    "version": 3
   },
   "file_extension": ".py",
   "mimetype": "text/x-python",
   "name": "python",
   "nbconvert_exporter": "python",
   "pygments_lexer": "ipython3",
   "version": "3.10.12"
  }
 },
 "nbformat": 4,
 "nbformat_minor": 2
}

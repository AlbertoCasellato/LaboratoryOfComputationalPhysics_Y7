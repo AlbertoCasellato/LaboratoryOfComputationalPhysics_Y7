{
 "cells": [
  {
   "cell_type": "markdown",
   "metadata": {},
   "source": [
    "1\\. **PCA on 3D dataset**\n",
    "\n",
    "* Generate a dataset with 3 features each with N entries (N being ${\\cal O}(1000)$). With $N(\\mu,\\sigma)$ the normali distribution with mean $\\mu$ and $\\sigma$  standard deviation, generate the 3 variables $x_{1,2,3}$ such that:\n",
    "    * $x_1$ is distributed as $N(0,1)$\n",
    "    * $x_2$ is distributed as $x_1+N(0,3)$\n",
    "    * $x_3$ is given by $2x_1+x_2$\n",
    "* Find the eigenvectors and eigenvalues of the covariance matrix of the dataset\n",
    "* Find the eigenvectors and eigenvalues using SVD. Check that the two procedures yield to same result\n",
    "* What percent of the total dataset's variability is explained by the principal components? Given how the dataset was constructed, do these make sense? Reduce the dimensionality of the system so that at least 99% of the total variability is retained.\n",
    "* Redefine the data in the basis yielded by the PCA procedure\n",
    "* Plot the data points in the original and the new coordiantes as a set of scatter plots. Your final figure should have 2 rows of 3 plots each, where the columns show the (0,1), (0,2) and (1,2) proejctions.\n"
   ]
  },
  {
   "cell_type": "code",
   "execution_count": 39,
   "metadata": {},
   "outputs": [],
   "source": [
    "import numpy as np\n",
    "from scipy import linalg as la"
   ]
  },
  {
   "cell_type": "code",
   "execution_count": 63,
   "metadata": {},
   "outputs": [
    {
     "name": "stdout",
     "output_type": "stream",
     "text": [
      "[[ 1.61247221  2.36166622 -0.1822015  ...  1.39307443  0.69319451\n",
      "   0.48597032]\n",
      " [ 4.2322563   2.30571368  5.40076228 ...  0.74480022 -1.87667428\n",
      "   3.97581206]\n",
      " [ 7.45720072  7.02904612  5.03635928 ...  3.53094908 -0.49028526\n",
      "   4.9477527 ]]\n"
     ]
    }
   ],
   "source": [
    "N_FEATURES = 3\n",
    "N_ENTRIES = 1000\n",
    "\n",
    "np.random.seed(9725)\n",
    "\n",
    "# 1\n",
    "x1 = np.random.normal(0, 1, N_ENTRIES)\n",
    "x2 = x1 + np.random.normal(0, 3, N_ENTRIES)\n",
    "x3 = 2*x1 + x2\n",
    "x = np.stack([x1, x2, x3], axis=0)\n",
    "print(x)"
   ]
  },
  {
   "cell_type": "code",
   "execution_count": 64,
   "metadata": {},
   "outputs": [
    {
     "name": "stdout",
     "output_type": "stream",
     "text": [
      "Eigenvalues: [2.66796556e+01+0.j 5.96273789e-16+0.j 1.84846146e+00+0.j]\n",
      "Eigenvectors: [[-0.10786346 -0.81649658  0.56718498]\n",
      " [-0.58679344 -0.40824829 -0.69929021]\n",
      " [-0.80252036  0.40824829  0.43507976]]\n"
     ]
    }
   ],
   "source": [
    "# 2\n",
    "cov_x = np.cov(x)\n",
    "w, V = la.eig(cov_x)\n",
    "print(\"Eigenvalues:\", w)\n",
    "print(\"Eigenvectors:\", V)"
   ]
  },
  {
   "cell_type": "code",
   "execution_count": 75,
   "metadata": {},
   "outputs": [
    {
     "name": "stdout",
     "output_type": "stream",
     "text": [
      "SVD Eigenvalues: [2.67242763e+01 1.84868224e+00 2.89218837e-30]\n",
      "SVD Eigenvectors: [[-0.10779183  0.5671986  -0.81649658]\n",
      " [-0.58688175 -0.69921609 -0.40824829]\n",
      " [-0.80246541  0.43518111  0.40824829]]\n"
     ]
    }
   ],
   "source": [
    "# 3\n",
    "U, D, Vt = la.svd(x)\n",
    "w_svd = (D**2)/(N_ENTRIES-1)\n",
    "V_svd = U\n",
    "\n",
    "print(\"SVD Eigenvalues:\", w_svd)\n",
    "print(\"SVD Eigenvectors:\", V_svd)\n",
    "\n",
    "# TODO: check if they are the same"
   ]
  },
  {
   "cell_type": "code",
   "execution_count": 88,
   "metadata": {},
   "outputs": [
    {
     "name": "stdout",
     "output_type": "stream",
     "text": [
      "[93.52995861030458, 6.470041389695426, 1.0122117269233581e-29]\n"
     ]
    },
    {
     "data": {
      "text/plain": [
       "1"
      ]
     },
     "execution_count": 88,
     "metadata": {},
     "output_type": "execute_result"
    }
   ],
   "source": [
    "# 4\n",
    "sorted_w = np.sort(w_svd)[::-1]\n",
    "sum_w = np.sum(sorted_w)\n",
    "print(f\"{list(100*sorted_w/sum_w)}\")\n",
    "cumulative_variance = np.cumsum(sorted_w/sum_w)\n",
    "k = np.argmax(cumulative_variance >= 0.99)\n"
   ]
  },
  {
   "cell_type": "markdown",
   "metadata": {},
   "source": [
    "2\\. **PCA on a nD dataset**\n",
    "\n",
    "Start from the dataset you have genereted in the previous exercise and add uncorrelated random noise. Such noise should be represented by other 10 uncorrelated variables normal distributed, with standar deviation much smaller (say, a factor 50) than those used to generate the $x_1$ and $x_2$.\n",
    "\n",
    "Repeat the PCA procedure and compare the results with what you obtained before"
   ]
  },
  {
   "cell_type": "markdown",
   "metadata": {},
   "source": [
    "3 \\. **Looking at an oscillating spring** (optional)\n",
    "\n",
    "Imagine you have $n$ cameras looking at a spring oscillating along the $x$ axis. Each  camera record the motion of the spring looking at it along a given direction defined by the pair $(\\theta_i, \\phi_i)$, the angles in spherical coordinates. \n",
    "\n",
    "Start from the simulation of the records (say ${\\cal O}(1000)$) of the spring's motion along the x axis, assuming a little random noise affects the measurements along the $y$. Rotate such dataset to emulate the records of each camera.\n",
    "\n",
    "Perform a Principal Component Analysis on the thus obtained dataset, aiming at finding the only one coordinate that really matters.\n"
   ]
  },
  {
   "cell_type": "markdown",
   "metadata": {},
   "source": [
    "4\\. **PCA on the MAGIC dataset** (optional)\n",
    "\n",
    "Perform a PCA on the magic04.data dataset"
   ]
  },
  {
   "cell_type": "code",
   "execution_count": null,
   "metadata": {},
   "outputs": [],
   "source": [
    "# get the dataset and its description on the proper data directory\n",
    "!wget https://archive.ics.uci.edu/ml/machine-learning-databases/magic/magic04.data -P ~/data/\n",
    "!wget https://archive.ics.uci.edu/ml/machine-learning-databases/magic/magic04.names -P ~/data/ "
   ]
  }
 ],
 "metadata": {
  "kernelspec": {
   "display_name": "Python 3",
   "language": "python",
   "name": "python3"
  },
  "language_info": {
   "codemirror_mode": {
    "name": "ipython",
    "version": 3
   },
   "file_extension": ".py",
   "mimetype": "text/x-python",
   "name": "python",
   "nbconvert_exporter": "python",
   "pygments_lexer": "ipython3",
   "version": "3.10.12"
  }
 },
 "nbformat": 4,
 "nbformat_minor": 2
}
